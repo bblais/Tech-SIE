{
 "cells": [
  {
   "cell_type": "markdown",
   "metadata": {},
   "source": [
    "#Statistical Inference for Everyone: Technical Supplement\n",
    "\n",
    "\n",
    "\n",
    "This document is the technical supplement, for instructors, for [Statistical Inference for Everyone], the introductory statistical inference textbook from the perspective of \"probability theory as logic\".\n",
    "\n",
    "<img  src=\"http://web.bryant.edu/~bblais/images/Saturn_with_Dice.png\" align=center width = 250px />\n",
    "\n",
    "The purpose of this supplement is to provide a place where the comparison between the orthodox, *frequentist*, statistical approach and the current, *probability theory as logic*, approach is made explicit.  It is my contention that all of the typical examples covered in introductory statistics can be handled as equivalent examples in probability with uninformative prior probabilities on the parameters.  I want this supplement to provide all of the derivations for this claim.\n",
    "\n",
    "Further, examples where the approaches are *different*, I plan I showing that the current approach is demonstrably superior.  I also want to include computer code and data to make clear how the current approach can be practically accomplished.\n",
    "\n",
    "\n",
    "[Statistical Inference for Everyone]: http://web.bryant.edu/~bblais/statistical-inference-for-everyone-sie.html\n",
    "\n",
    "\n",
    "Contents\n",
    "------\n",
    "\n",
    "\n",
    "* [**Prologue:**](http://nbviewer.ipython.org/github/bblais/Tech-SIE/blob/master/Prologue/Prologue.ipynb) What is this document?\n",
    "* [**Introduction:**](http://nbviewer.ipython.org/github/bblais/Tech-SIE/blob/master/Introduction/Introduction.ipynb) A little history, and introduction to the perspective taken in the book.\n",
    "* [**Mean, Known Deviation:**](http://nbviewer.ipython.org/github/bblais/Tech-SIE/blob/master/Estimating_Mean_Known_Deviation/Estimating_Mean_Known_Deviation.ipynb) Where we estimate the mean (i.e. true value), knowing the deviation.\n",
    "* [**Mean and the Deviation:**](http://nbviewer.ipython.org/github/bblais/Tech-SIE/blob/master/Estimating_Mean_and_Deviation/Estimating_Mean_and_Deviation.ipynb) Where we estimate both the mean (i.e. true value) and the deviation (i.e. uncertainty).\n",
    "* [**Proportion:**](http://nbviewer.ipython.org/github/bblais/Tech-SIE/blob/master/Estimating_Proportion/Estimating_Proportion.ipynb) Where we estimate a proportion, couched in the iconic problem of $N$ coin flips where $h$ of the flips come up heads.\n",
    "* [**Difference Between Means:**](http://nbviewer.ipython.org/github/bblais/Tech-SIE/blob/master/Estimating_Difference_Between_Means/Estimating_Difference_Between_Means.ipynb) Where we look at the difference between means, both paired and unpaired.\n",
    "* [**Ratio of Variances:**](http://nbviewer.ipython.org/github/bblais/Tech-SIE/blob/master/Estimating_Ratio_Deviations/Estimating_Ratio_Deviations.ipynb) Where we look at the ratio of variances, or deviations.\n",
    "* **Difference Between Proportions**\n",
    "* **Goodness of Fit**\n",
    "* [**Linear Regresssion:**](http://nbviewer.ipython.org/github/bblais/Tech-SIE/blob/master/Linear_Regression/Linear_Regression.ipynb) Where we introduce the simple form of linear regression, and derive the posteriors for the slope and intercept.\n",
    "* **Objective Priors**"
   ]
  },
  {
   "cell_type": "markdown",
   "metadata": {},
   "source": [
    "---------------------"
   ]
  },
  {
   "cell_type": "code",
   "execution_count": 8,
   "metadata": {
    "collapsed": false
   },
   "outputs": [
    {
     "data": {
      "text/html": [
       "<style>\n",
       "  @font-face {\n",
       "    font-family: \"Computer Modern\";\n",
       "    src: url('http://mirrors.ctan.org/fonts/cm-unicode/fonts/otf/cmunss.otf');\n",
       "  }\n",
       "  @font-face {\n",
       "    font-family: \"Computer Modern\";\n",
       "    src: url('http://mirrors.ctan.org/fonts/cm-unicode/fonts/otf/cmunsx.otf');\n",
       "    font-weight: bold;\n",
       "  }\n",
       "  @font-face {\n",
       "    font-family: \"Computer Modern\";\n",
       "    src: url('http://mirrors.ctan.org/fonts/cm-unicode/fonts/otf/cmunsi.otf');\n",
       "    font-style: italic, oblique;\n",
       "  }\n",
       "  @font-face {\n",
       "    font-family: \"Computer Modern\";\n",
       "    src: url('http://mirrors.ctan.org/fonts/cm-unicode/fonts/otf/cmunbxo.otf');\n",
       "    font-weight: bold;\n",
       "    font-style: italic, oblique;\n",
       "  }\n",
       "\n",
       "    div.cell{\n",
       "        width:800px;\n",
       "        margin-left:16% !important;\n",
       "        margin-right:auto;\n",
       "    }\n",
       "    h1 {\n",
       "        font-family: Garamond, Times, serif;\n",
       "    }\n",
       "    h4{\n",
       "        margin-top:12px;\n",
       "        margin-bottom: 3px;\n",
       "       }\n",
       "    div.text_cell_render{\n",
       "        font-family: Garamond, Times, serif;\n",
       "        line-height: 145%;\n",
       "        font-size: 130%;\n",
       "        width:800px;\n",
       "        margin-left:auto;\n",
       "        margin-right:auto;\n",
       "    }\n",
       "    .CodeMirror{\n",
       "            font-family: \"Source Code Pro\", source-code-pro,Consolas, monospace;\n",
       "    }\n",
       "    .prompt{\n",
       "        display: None;\n",
       "    }\n",
       "    .text_cell_render h5 {\n",
       "        font-weight: 300;\n",
       "        font-size: 22pt;\n",
       "        color: #4057A1;\n",
       "        font-style: italic;\n",
       "        margin-bottom: .5em;\n",
       "        margin-top: 0.5em;\n",
       "        display: block;\n",
       "    }\n",
       "    \n",
       "    .warning{\n",
       "        color: rgb( 240, 20, 20 )\n",
       "        }  \n",
       "</style>\n",
       "<script>\n",
       "    MathJax.Hub.Config({\n",
       "                        TeX: {\n",
       "                           extensions: [\"AMSmath.js\"]\n",
       "                           },\n",
       "                tex2jax: {\n",
       "                    inlineMath: [ ['$','$'], [\"\\\\(\",\"\\\\)\"] ],\n",
       "                    displayMath: [ ['$$','$$'], [\"\\\\[\",\"\\\\]\"] ]\n",
       "                },\n",
       "                displayAlign: 'center', // Change this to 'center' to center equations.\n",
       "                \"HTML-CSS\": {\n",
       "                    styles: {'.MathJax_Display': {\"margin\": 4}}\n",
       "                }\n",
       "        });\n",
       "</script>\n"
      ],
      "text/plain": [
       "<IPython.core.display.HTML at 0x105c36e90>"
      ]
     },
     "execution_count": 8,
     "metadata": {},
     "output_type": "execute_result"
    }
   ],
   "source": [
    "from IPython.core.display import HTML\n",
    "\n",
    "\n",
    "def css_styling():\n",
    "    styles = open(\"../styles/custom.css\", \"r\").read()\n",
    "    return HTML(styles)\n",
    "css_styling()"
   ]
  }
 ],
 "metadata": {
  "kernelspec": {
   "display_name": "Python 2",
   "language": "python",
   "name": "python2"
  },
  "language_info": {
   "codemirror_mode": {
    "name": "ipython",
    "version": 2
   },
   "file_extension": ".py",
   "mimetype": "text/x-python",
   "name": "python",
   "nbconvert_exporter": "python",
   "pygments_lexer": "ipython2",
   "version": "2.7.9"
  }
 },
 "nbformat": 4,
 "nbformat_minor": 0
}
